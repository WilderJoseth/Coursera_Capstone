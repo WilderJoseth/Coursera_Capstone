{
  "nbformat": 4,
  "nbformat_minor": 0,
  "metadata": {
    "colab": {
      "name": "BattleNeighborhoods.ipynb",
      "provenance": [],
      "collapsed_sections": [],
      "authorship_tag": "ABX9TyMjUMUASCsWfHEsleQG8Rvx",
      "include_colab_link": true
    },
    "kernelspec": {
      "name": "python3",
      "display_name": "Python 3"
    }
  },
  "cells": [
    {
      "cell_type": "markdown",
      "metadata": {
        "id": "view-in-github",
        "colab_type": "text"
      },
      "source": [
        "<a href=\"https://colab.research.google.com/github/WilderJoseth/Coursera_Capstone/blob/master/BattleNeighborhoods.ipynb\" target=\"_parent\"><img src=\"https://colab.research.google.com/assets/colab-badge.svg\" alt=\"Open In Colab\"/></a>"
      ]
    },
    {
      "cell_type": "markdown",
      "metadata": {
        "id": "QEEoB64c8-f5",
        "colab_type": "text"
      },
      "source": [
        "# Capstone Project\n",
        "## The Battle of Neighborhoods\n",
        "A businessman wants to open a new restaurant, but he does not know where is the best place. He has information that New York City (EEUU) and Toronto (Canada) are good options to start, but he only has a budget to open only one.\n",
        "\n",
        "### Data science methodology\n",
        "\n",
        "#### 1. Business understanding (what is the problem that we are trying to solve?):\n",
        "There two places where a businessman wants to open a restaurant. These places are New York and Toronto.\n",
        "\n",
        "* **Define goals**: select the best place to open a restaurant in order to get the best incomes.\n",
        "* **Define the objetives**: understand how are these places: Toronto and New York. Understand how similar or dissimilar they are.\n",
        "\n",
        "#### 2. Analytic approach:\n",
        "In this case, it is important to collect and process information from Toronto and New York in order to get a better knowledge of how these cities work. Understand their financial behavior.\n",
        "To process this data I will use unsupervised models like KNN clustering, to process the data.\n",
        "\n",
        "#### 3. Data requirements:\n",
        "I will use data like how many restaurants are, people recomendations , among others.\n",
        "\n",
        "#### 4. Data collection:\n",
        "I will collect data from Foursquare, WIkipedia and Coursera."
      ]
    },
    {
      "cell_type": "code",
      "metadata": {
        "id": "OGjkFJVf89Au",
        "colab_type": "code",
        "colab": {}
      },
      "source": [
        ""
      ],
      "execution_count": null,
      "outputs": []
    },
    {
      "cell_type": "code",
      "metadata": {
        "id": "twyiN8Qb9Fyz",
        "colab_type": "code",
        "colab": {}
      },
      "source": [
        ""
      ],
      "execution_count": null,
      "outputs": []
    },
    {
      "cell_type": "code",
      "metadata": {
        "id": "fCMTFlwv9F1d",
        "colab_type": "code",
        "colab": {}
      },
      "source": [
        ""
      ],
      "execution_count": null,
      "outputs": []
    },
    {
      "cell_type": "code",
      "metadata": {
        "id": "MioIuL6J9F4J",
        "colab_type": "code",
        "colab": {}
      },
      "source": [
        ""
      ],
      "execution_count": null,
      "outputs": []
    },
    {
      "cell_type": "code",
      "metadata": {
        "id": "t_cMn5V09F7b",
        "colab_type": "code",
        "colab": {}
      },
      "source": [
        ""
      ],
      "execution_count": null,
      "outputs": []
    },
    {
      "cell_type": "code",
      "metadata": {
        "id": "Vch8UoIz9F-i",
        "colab_type": "code",
        "colab": {}
      },
      "source": [
        ""
      ],
      "execution_count": null,
      "outputs": []
    },
    {
      "cell_type": "code",
      "metadata": {
        "id": "T9xq0PV_9GBr",
        "colab_type": "code",
        "colab": {}
      },
      "source": [
        ""
      ],
      "execution_count": null,
      "outputs": []
    },
    {
      "cell_type": "code",
      "metadata": {
        "id": "VH0u7h609GEe",
        "colab_type": "code",
        "colab": {}
      },
      "source": [
        ""
      ],
      "execution_count": null,
      "outputs": []
    },
    {
      "cell_type": "code",
      "metadata": {
        "id": "rP4Oxc1O9GHb",
        "colab_type": "code",
        "colab": {}
      },
      "source": [
        ""
      ],
      "execution_count": null,
      "outputs": []
    },
    {
      "cell_type": "code",
      "metadata": {
        "id": "LeG7zapc9GKy",
        "colab_type": "code",
        "colab": {}
      },
      "source": [
        ""
      ],
      "execution_count": null,
      "outputs": []
    }
  ]
}